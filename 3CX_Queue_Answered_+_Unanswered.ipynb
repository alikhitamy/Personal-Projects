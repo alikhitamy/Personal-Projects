{
  "nbformat": 4,
  "nbformat_minor": 0,
  "metadata": {
    "colab": {
      "name": "3CX_Queue_Answered_+_Unanswered.ipynb",
      "provenance": [],
      "collapsed_sections": [],
      "toc_visible": true,
      "include_colab_link": true
    },
    "kernelspec": {
      "name": "python3",
      "display_name": "Python 3"
    }
  },
  "cells": [
    {
      "cell_type": "markdown",
      "metadata": {
        "id": "view-in-github",
        "colab_type": "text"
      },
      "source": [
        "<a href=\"https://colab.research.google.com/github/alikhitamy/Personal-Projects/blob/master/3CX_Queue_Answered_%2B_Unanswered.ipynb\" target=\"_parent\"><img src=\"https://colab.research.google.com/assets/colab-badge.svg\" alt=\"Open In Colab\"/></a>"
      ]
    },
    {
      "cell_type": "markdown",
      "metadata": {
        "id": "B3Fg-RgBj_nL"
      },
      "source": [
        "# Replicating Call Report Answered vs Unanswered Graph"
      ]
    },
    {
      "cell_type": "code",
      "metadata": {
        "id": "mzHmrixhJSjx"
      },
      "source": [
        "import pandas as pd\n",
        "\n",
        "# Read Data from row 5\n",
        "\n",
        "data_pd=pd.read_csv('callreport(1).csv',header=5)\n"
      ],
      "execution_count": null,
      "outputs": []
    },
    {
      "cell_type": "code",
      "metadata": {
        "id": "lb6wfhcGKDyd"
      },
      "source": [
        "# Fill forward the dates for each call\n",
        "\n",
        "data_pd['Call Time'].fillna(method='ffill',inplace=True)\n",
        "\n",
        "# Drop the Total Row\n",
        "\n",
        "data_pd=data_pd.loc[data_pd['Call Time']!='Total:']\n",
        "\n",
        "# And Blank Row\n",
        "\n",
        "data_pd=data_pd.loc[data_pd['Call Time']!=\"\"]"
      ],
      "execution_count": null,
      "outputs": []
    },
    {
      "cell_type": "code",
      "metadata": {
        "id": "5IIzbYkLRz9H"
      },
      "source": [
        "# Split the date + time into seperate date + seperate time for each date-time values\n",
        " \n",
        "for ix in range(0,len(data_pd.index)):\n",
        "  \n",
        "  location_of_first_blank_space=data_pd.loc[ix,'Call Time'].find(' ',1)\n",
        "\n",
        "  date = data_pd.loc[ix,'Call Time'][0:location_of_first_blank_space]\n",
        "\n",
        "  data_pd.loc[ix,'Call Date Only'] = date\n",
        "\n",
        "  data_pd.loc[ix,'Call Time Only'] = data_pd.loc[ix,'Call Time'].replace(date,\"\")"
      ],
      "execution_count": null,
      "outputs": []
    },
    {
      "cell_type": "code",
      "metadata": {
        "id": "nQbmR9ZYZ0cO"
      },
      "source": [
        "# Get the hour, minute, second and AM or PM from the time. Then create time groups for counting calls in each time group\n",
        "\n",
        "for ix in range(0,len(data_pd.index)):\n",
        "  \n",
        "  first_colon_position = data_pd.loc[ix,'Call Time Only'].lstrip().find(':',0)\n",
        "\n",
        "  second_colon_position = data_pd.loc[ix,'Call Time Only'].lstrip().find(':',first_colon_position+1)\n",
        "\n",
        "  first_blank_space = data_pd.loc[ix,'Call Time Only'].lstrip().find(' ',1)\n",
        "\n",
        "\n",
        "  hour = int(data_pd.loc[ix,'Call Time Only'].lstrip()[0:first_colon_position])\n",
        "\n",
        "  minutes = int(data_pd.loc[ix,'Call Time Only'].lstrip()[first_colon_position+1:second_colon_position])\n",
        "\n",
        "  seconds = int(data_pd.loc[ix,'Call Time Only'].lstrip()[second_colon_position+1:first_blank_space])\n",
        "\n",
        "  AM_or_PM = data_pd.loc[ix,'Call Time Only'].lstrip()[first_blank_space+1:]\n",
        "\n",
        "  # 24 Hour Clock -- for working out call durations\n",
        "\n",
        "  # \"{:02d}\".format(1) ---> formats 1 as 01 so that there is a leading 0 in front of minutes and seconds\n",
        "\n",
        "  if AM_or_PM=='PM':\n",
        "\n",
        "    data_pd.loc[ix,'Call Time Only 24 Hours'] = str(hour+12) + \":\" + str(\"{:02d}\".format(minutes)) + \":\" + str(\"{:02d}\".format(seconds))\n",
        "  \n",
        "  else:\n",
        "  \n",
        "    data_pd.loc[ix,'Call Time Only 24 Hours'] = str(hour) + \":\" + str(\"{:02d}\".format(minutes)) + \":\" + str(\"{:02d}\".format(seconds))\n",
        "  \n",
        "  # Create Time Groups\n",
        "\n",
        "  if hour==12:\n",
        "\n",
        "    data_pd.loc[ix,'Call Time Group'] = str(hour) + \"-\" + str(1) + \" \" + AM_or_PM\n",
        "  \n",
        "  else:\n",
        "\n",
        "    data_pd.loc[ix,'Call Time Group'] = str(hour) + \"-\" + str(hour + 1) + \" \" + AM_or_PM"
      ],
      "execution_count": null,
      "outputs": []
    },
    {
      "cell_type": "code",
      "metadata": {
        "id": "UDiRWF36bwRh",
        "colab": {
          "base_uri": "https://localhost:8080/",
          "height": 72
        },
        "outputId": "c1ad475b-0502-4f62-9f77-739128197c34"
      },
      "source": [
        "# Get unique time groups\n",
        "\n",
        "data_pd['Call Time Group'].unique()"
      ],
      "execution_count": null,
      "outputs": [
        {
          "output_type": "execute_result",
          "data": {
            "text/plain": [
              "array(['10-11 AM', '11-12 AM', '12-1 PM', '1-2 PM', '2-3 PM', '3-4 PM',\n",
              "       '4-5 PM', '5-6 PM', '6-7 PM', '7-8 PM', '8-9 PM', '9-10 PM'],\n",
              "      dtype=object)"
            ]
          },
          "metadata": {
            "tags": []
          },
          "execution_count": 6
        }
      ]
    },
    {
      "cell_type": "markdown",
      "metadata": {
        "id": "cdxURReve8lR"
      },
      "source": [
        "# Get Calls by Time Group `Simbisa Queue`"
      ]
    },
    {
      "cell_type": "code",
      "metadata": {
        "id": "APfZWvdXcEIc",
        "colab": {
          "base_uri": "https://localhost:8080/",
          "height": 274
        },
        "outputId": "66e34957-9f22-486b-adb9-241904422117"
      },
      "source": [
        "# Select Simbisa Queue ---> Change this if you want any other queue\n",
        "\n",
        "data_simbisa_pd = data_pd[data_pd.Destination=='Q Simbisa-Queue (815)']\n",
        "\n",
        "\n",
        "# For each Call Status, group by Call Time Groups created earlier and count...\n",
        "\n",
        "for item in data_simbisa_pd.Status.unique():\n",
        "\n",
        "  calls_by_time_group_pd = (data_simbisa_pd[data_simbisa_pd.Status==item].groupby(['Call Time Group']).count()['Call Time'])\n",
        "\n",
        "  print(calls_by_time_group_pd)\n",
        "  \n",
        "  # Save to CSV\n",
        "  \n",
        "  calls_by_time_group_pd.to_csv('Calls by Time Group.csv')"
      ],
      "execution_count": null,
      "outputs": [
        {
          "output_type": "stream",
          "text": [
            "Call Time Group\n",
            "1-2 PM      487\n",
            "10-11 AM    164\n",
            "11-12 AM    259\n",
            "12-1 PM     442\n",
            "2-3 PM      371\n",
            "3-4 PM      406\n",
            "4-5 PM      499\n",
            "5-6 PM      693\n",
            "6-7 PM      653\n",
            "7-8 PM      462\n",
            "8-9 PM      201\n",
            "9-10 PM      38\n",
            "Name: Call Time, dtype: int64\n"
          ],
          "name": "stdout"
        }
      ]
    },
    {
      "cell_type": "markdown",
      "metadata": {
        "id": "7ZftWKTwRF2G"
      },
      "source": [
        "# Number of calls by agent and duration of calls"
      ]
    },
    {
      "cell_type": "code",
      "metadata": {
        "id": "GmTIfmcGRJlm"
      },
      "source": [
        "def time_difference_in_hours_minutes_seconds(start_time,end_time):\n",
        "  \n",
        "  from datetime import datetime\n",
        "\n",
        "  time_format = '%H:%M:%S'\n",
        "\n",
        "  time_delta = datetime.strptime(end_time, time_format) - datetime.strptime(start_time, time_format)\n",
        "\n",
        "  total_seconds = time_delta.total_seconds()\n",
        "  \n",
        "  seconds = total_seconds\n",
        "  \n",
        "  seconds = seconds % (24 * 3600) \n",
        "    \n",
        "  hour = seconds // 3600\n",
        "    \n",
        "  seconds %= 3600\n",
        "    \n",
        "  minutes = seconds // 60\n",
        "    \n",
        "  seconds %= 60\n",
        "      \n",
        "  return \"%d:%02d:%02d\" % (hour, minutes, seconds) "
      ],
      "execution_count": null,
      "outputs": []
    },
    {
      "cell_type": "code",
      "metadata": {
        "id": "syqfpwljtx-7"
      },
      "source": [
        "# Use this to add a new agent each time\n",
        "\n",
        "agent_counter = 0\n",
        "\n",
        "\n",
        "# Create a dataframe to save results\n",
        "\n",
        "number_of_calls_pd = pd.DataFrame(index=[0],\n",
        "                                  columns=['Agent','Number of Calls','Duration of Calls'])\n",
        "\n",
        "number_of_calls_pd.index.name='ID'\n",
        "\n",
        "\n",
        "# For each agent save number of calls\n",
        "\n",
        "\n",
        "for agent in data_pd[(data_pd.Destination!='Q Simbisa-Queue (815)')&(data_pd.Destination!='IVR (816)')].Destination.unique():\n",
        "\n",
        "  \n",
        "  # Add agent\n",
        "  \n",
        "  number_of_calls_pd.loc[agent_counter,'Agent'] = agent\n",
        "\n",
        "  \n",
        "  # Add Number of Calls\n",
        "\n",
        "  number_of_calls_pd.loc[agent_counter,'Number of Calls'] = data_pd[data_pd.Destination==agent].shape[0]\n",
        "\n",
        "  \n",
        "  # Add Duration of Calls: [0] here is the index of the first call time and [-1] is the index of the last call time\n",
        "\n",
        "  first_call_time = data_pd[data_pd.Destination==agent].iloc[0]['Call Time Only 24 Hours']\n",
        "  \n",
        "  last_call_time = data_pd[data_pd.Destination==agent].iloc[-1]['Call Time Only 24 Hours']\n",
        "\n",
        "  call_duration = time_difference_in_hours_minutes_seconds(first_call_time,last_call_time)\n",
        "\n",
        "  number_of_calls_pd.loc[agent_counter,'Duration of Calls'] = call_duration\n",
        "\n",
        "\n",
        "  # Increment agent to save in dataframe\n",
        "\n",
        "  agent_counter = agent_counter + 1\n",
        "\n",
        "\n",
        "# Sort by Number of Calls\n",
        "\n",
        "number_of_calls_pd.sort_values(by='Number of Calls',ascending=False,inplace=True)\n",
        "\n",
        "# Save to CSV\n",
        "\n",
        "number_of_calls_pd.to_csv('Number of Calls and Duration of Calls by Agent.csv')\n"
      ],
      "execution_count": null,
      "outputs": []
    },
    {
      "cell_type": "code",
      "metadata": {
        "id": "06YQunmK9lyH"
      },
      "source": [
        ""
      ],
      "execution_count": null,
      "outputs": []
    }
  ]
}